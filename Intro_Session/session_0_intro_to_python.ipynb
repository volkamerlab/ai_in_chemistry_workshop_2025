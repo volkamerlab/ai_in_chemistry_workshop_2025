{
 "cells": [
  {
   "cell_type": "markdown",
   "id": "8ace17d7",
   "metadata": {},
   "source": [
    "## Introduction to Python and Jupyter Notebooks\n",
    "\n",
    "**Instructor**: Lisa-Marie Rolli, Volkamer Lab, Saarland University (lisa-marie.rolli@uni-saarland.de)\n",
    "\n",
    "\n",
    "**Course date**: 22nd September 2025\n",
    "\n",
    "\n",
    "Based on previous contributions by Corey Taylor, Jan Philipp Albrecht, and Jaime Rodríguez-Guerra."
   ]
  },
  {
   "cell_type": "markdown",
   "id": "d3f01634",
   "metadata": {},
   "source": [
    "### 1 Python and Jupyter Notebooks\n",
    "#### What is Python?\n",
    "\n",
    "Python is a widely used general-purpose high-level programming language.\n",
    "The term \"high-level\" means that the language has abstracted away most of the technical details and manages them for you (e.g. memory allocation).\n",
    "\n",
    "In this course we will use Python 3.12.11 (default in Colab as of August 2025).\n",
    "\n",
    "#### What is this interface?\n",
    "\n",
    "This web-based interface  is a so called **Jupyter notebook**, a web application that allows you to create and share documents which contain executable code, equations, visualizations and explanatory text. \n",
    "\n",
    "It allows you to define so called *cells* of different formats:\n",
    "\n",
    "- Rich-text or Markdown cells (like this cell)\n",
    "- Code cells\n",
    "\n",
    "You can *run* (execute) each cell seperately by pressing <kbd>Shift</kbd>+<kbd>Enter</kbd> or <kbd>Ctrl</kbd>+<kbd>Enter</kbd>. All names you define (variables, functions...) are available for **both** preceding _and_ following cells once executed. Careful with the order in which you execute your cells!\n",
    "\n",
    "Some code cells additionally produce an output (text, images, etc.). In that case, the output will appear underneath the code cell.\n",
    "\n",
    "\n",
    "> __Exercise__\n",
    ">\n",
    "> Try to execute the following cell and make sure the output appears."
   ]
  },
  {
   "cell_type": "code",
   "execution_count": null,
   "id": "b9af1c66",
   "metadata": {},
   "outputs": [],
   "source": [
    "print(\"This sentence will appear underneath the cell.\")\n",
    "# This is a comment line. \n",
    "# Lines in a code cell starting with the '#' symbol are\n",
    "# ignored when you run a piece of code\n",
    "\n",
    "# print('This sentence will NOT appear underneath the cell!')"
   ]
  },
  {
   "cell_type": "markdown",
   "id": "58cc668f",
   "metadata": {},
   "source": [
    "### 2 Variables and Operations\n",
    "\n",
    "There are several **types** of objects depending on their contents.\n",
    "\n",
    "In the following cells, you will learn about:\n",
    "\n",
    "- scalar (one element) objects:\n",
    "    - integers (`int`)\n",
    "    - boolean (`bool`)\n",
    "    - floating-point numbers (`float`)\n",
    "    - strings (`str`)\n",
    "- collection objects:\n",
    "    - lists (`list`)\n",
    "    - dictionaries (`dict`)\n",
    "\n",
    "#### Assignment\n",
    "\n",
    "Regardless of the type, assignment can be done with the following syntax:\n",
    "\n",
    "```python\n",
    "name = value\n",
    "```\n",
    "\n",
    "You can think of _names_ as a label hanging from a _value_. As with real objects, you can attach several names to the same value:"
   ]
  },
  {
   "cell_type": "code",
   "execution_count": null,
   "id": "74bd36c0",
   "metadata": {},
   "outputs": [],
   "source": [
    "color = \"pink\"\n",
    "print(color)"
   ]
  },
  {
   "cell_type": "markdown",
   "id": "b59475dc",
   "metadata": {},
   "source": [
    "Two things to note:\n",
    "\n",
    "1. The _type_ of the value will be implicitly inferred from the value _contents_.\n",
    "2. You cannot use spaces in the name. Python style guide recommends using `lowercase_words_separated_by_underscores`."
   ]
  },
  {
   "cell_type": "markdown",
   "id": "0a7e02a0",
   "metadata": {},
   "source": [
    "#### Collection objects\n",
    "\n",
    "##### lists\n",
    "\n",
    "Python has a datatype called `list`, where other variables (regardless of their type) can be positionally stored. In other words, `list`s are a sorted collection of elements. \n",
    "\n",
    "The syntax for list definition uses square brackes `[ ]`, which surround the values separated by commas `,`:\n",
    "\n",
    "The code `my_list = [5, 10]` would therefore store `5` at first position, and `10` at second position.\n",
    "\n",
    "  \n",
    "> *Exercise:*<br>\n",
    "> *Try to:*\n",
    "> - *define a list called `animals`*\n",
    "> - *at the first* **position**, *store the string `\"horse\"`.*\n",
    "> - *store the string `\"spider\"` TWICE at* **position** *2 and 3.*\n",
    " "
   ]
  },
  {
   "cell_type": "code",
   "execution_count": null,
   "id": "c2d2109a",
   "metadata": {},
   "outputs": [],
   "source": [
    "# space to solve the exercise"
   ]
  },
  {
   "cell_type": "markdown",
   "id": "052d2a97",
   "metadata": {},
   "source": [
    "Once defined, you can access the contained elements in different ways. The most common way is by using the **index** of the element. This is the position number, but the count starts from `0`."
   ]
  },
  {
   "cell_type": "code",
   "execution_count": null,
   "id": "d8b847fa",
   "metadata": {},
   "outputs": [],
   "source": [
    "my_list = [5, 10, 15]\n",
    "print(my_list[0])"
   ]
  },
  {
   "cell_type": "markdown",
   "id": "6acc1c3b",
   "metadata": {},
   "source": [
    "Note that the `index` itself could be a variable of the type `int`!"
   ]
  },
  {
   "cell_type": "code",
   "execution_count": null,
   "id": "e30c73d7",
   "metadata": {},
   "outputs": [],
   "source": [
    "index = 1\n",
    "print(my_list[index])"
   ]
  },
  {
   "cell_type": "code",
   "execution_count": null,
   "id": "f741c44a",
   "metadata": {},
   "outputs": [],
   "source": [
    "my_list[3]"
   ]
  },
  {
   "cell_type": "markdown",
   "id": "c6ce9d6d",
   "metadata": {},
   "source": [
    "***\n",
    "\n",
    "Oh! Was that an error? \n",
    "\n",
    "<font color=red>Setting or accessing a value of an index of a list which is not defined results in an error!</font>\n",
    "\n",
    "```python\n",
    "my_list[3]\n",
    "---------------------------------------------------------------------------\n",
    "IndexError                       Traceback (most recent call last)\n",
    "<ipython-input-9-831b15cbf272> in <module>()\n",
    "----> 1 my_list[3]\n",
    "\n",
    "IndexError: list index out of range\n",
    "\n",
    "```"
   ]
  },
  {
   "cell_type": "markdown",
   "id": "ffb483d4",
   "metadata": {},
   "source": [
    "#### Operations\n",
    "\n",
    "Every object type (`int`, `str`, etc) defines some **operations** to do basic tasks.\n",
    "\n",
    "For example, a variable of type `int` defines, among others, the following operations:\n",
    "- Addition `+`\n",
    "- Substraction `-`\n",
    "- Multiplication `*`\n",
    "- Division `/`\n",
    "\n",
    "\n",
    "A division is allowed but **changes** the type of the _returned_ variable (from `int` to `float`). \n"
   ]
  },
  {
   "cell_type": "code",
   "execution_count": null,
   "id": "a7980574",
   "metadata": {},
   "outputs": [],
   "source": [
    "print(3 + 4)  \n",
    "print(3 - 4)  \n",
    "print(3 * 4)  \n",
    "print(3 / 4)  "
   ]
  },
  {
   "cell_type": "markdown",
   "id": "6287b1f7",
   "metadata": {},
   "source": [
    "In addition to mathematical operations, you can apply logical operations, like **comparisons**.\n",
    "\n",
    "An **equality operation** (a comparison operation) can be performed by using the `==` operator. The result is always a `bool`-type having either the value `True` or `False`, depending on whether the content of two variables are indeed equal or not. Beside equality, we can also check for inquality be using the `!=` operation.\n",
    "\n",
    "Imagine this as a question you ask to the computer. \"Is the content of var1 **equal** to the content of var2?\"\n",
    "\n",
    "- Equality `==`\n",
    "- Inequality `!=`\n"
   ]
  },
  {
   "cell_type": "code",
   "execution_count": null,
   "id": "46450b5d",
   "metadata": {},
   "outputs": [],
   "source": [
    "var1 = 'hello'"
   ]
  },
  {
   "cell_type": "code",
   "execution_count": null,
   "id": "2b87968d",
   "metadata": {},
   "outputs": [],
   "source": [
    "print(var1 == var1) \n",
    "print(var1 != var1) "
   ]
  },
  {
   "cell_type": "markdown",
   "id": "9be63b48",
   "metadata": {},
   "source": [
    "Note how comparisons _always_ produce a `bool` type!"
   ]
  },
  {
   "cell_type": "markdown",
   "id": "956180bc",
   "metadata": {},
   "source": [
    "Instead of equality (`==`) and inequality (`!=`), there are other comparison operations which return a `bool`-type value. Think of it as other questions to the computer than only asking it for equality. \n",
    "- `<` strictly less than\n",
    "- `>` strictly greater than\n",
    "- `<=` less than or equal\n",
    "- `>=` greater than or equal\n"
   ]
  },
  {
   "cell_type": "markdown",
   "id": "1f349b00",
   "metadata": {},
   "source": [
    "### 3. Control Flow\n",
    "\n",
    "As any programming language python gives flow control possibilities: `if, else, for, while`.\n",
    "\n",
    "#### Decisions: if, elif, else\n",
    "\n",
    "Conditionals allow you to you easily define automated decisions.\n",
    "\n",
    "We could have a piece of code checking the number of cases in our neighborhood every day so we can get an alert if the number of cases exceeds a certain threshold. For example:\n"
   ]
  },
  {
   "cell_type": "code",
   "execution_count": null,
   "id": "d618a617",
   "metadata": {},
   "outputs": [],
   "source": [
    "if 3 > 4:\n",
    "    print(\"Something is wrong!\")\n",
    "    # here, more lines could follow\n",
    "else:\n",
    "    # If the `if` clause is not true, then this block gets executed instead.\")\n",
    "    print(\"3 <= 4\")\n",
    "\n",
    "# These lines are not indented anymore.\n",
    "# They will be executed regardless of the value of variable 'status'. \n",
    "print(\"After if\")  "
   ]
  },
  {
   "cell_type": "markdown",
   "id": "029fc249",
   "metadata": {},
   "source": [
    "\n",
    "Notice the syntax: \n",
    "* Keyword `if` indicates the start of an ` if`-statement. \n",
    "* A **conditional expression** (here `3 > 4`) follows, which will return (explicitly or implicitly) a `bool`-type. Thus, either `True` or `False`. \n",
    "* A `:` closes the ` if`-statement. \n",
    "* An **indented** block follows. All contiguous lines sharing the same level of indentation (or deeper) belong to the same block and are executed only if the condition is met.\n",
    "* After the `if` block, an `else` block is defined. This is optional!\n",
    "\n",
    "Now further think of a scenario, where we have to decide whether to run a certain code based on 3 or more different conditions. Alternative, exclusive conditions can be done with `elif`."
   ]
  },
  {
   "cell_type": "code",
   "execution_count": null,
   "id": "182ddf05",
   "metadata": {},
   "outputs": [],
   "source": [
    "a = 3\n",
    "b = 4\n",
    "if a > b:\n",
    "    print(f\"{a} > {b}\")\n",
    "    # here, more lines could follow\n",
    "elif a == b:\n",
    "    print(f\"{a} = {b}\")\n",
    "    # here, more lines could follow\n",
    "else:\n",
    "    # If the `if` clause is not true, then this block gets executed instead.\")\n",
    "    print(f\"{a} < {b}\")\n"
   ]
  },
  {
   "cell_type": "markdown",
   "id": "e52293c3",
   "metadata": {},
   "source": [
    "#### Loops"
   ]
  },
  {
   "cell_type": "code",
   "execution_count": null,
   "id": "a20e519a",
   "metadata": {},
   "outputs": [],
   "source": [
    "cities = [\"Paris\", \"Saarbrücken\", \"Cambridge\", \"Barcelona\"]\n",
    "for city in cities:\n",
    "    print(f'{city} is really beautiful!')"
   ]
  },
  {
   "cell_type": "markdown",
   "id": "2e3fa1a4",
   "metadata": {},
   "source": [
    "What's happening here?\n",
    "\n",
    "1. `for NAME in COLLECTION:`. Just as `if`, a `:` is needed to end the line.\n",
    "2. `NAME` will be assigned to the first element in `COLLECTION`.\n",
    "3. The indented block(s) will be executed with `NAME = FIRST VALUE`.\n",
    "4. `NAME` will take the second element.\n",
    "5. The indented block(s) will be executed with `NAME = SECOND VALUE`\n",
    "6. ... and so on. The loop ends when there are no more elements in the list to assign.\n",
    "\n",
    "> **Exercise**\n",
    ">\n",
    "> How many entries does `cities` contain? You can use `len(cities)` to guess the answer, but you can also compute it with a `for` loop, a reassignable `int` variable and the `+` operator."
   ]
  },
  {
   "cell_type": "code",
   "execution_count": null,
   "id": "02258e0d",
   "metadata": {},
   "outputs": [],
   "source": [
    "# space for the exercise"
   ]
  },
  {
   "cell_type": "markdown",
   "id": "3437b84c",
   "metadata": {},
   "source": [
    "Note: There are more ways to _repeat actions_ in Python, like using `while` loops or recursion, but `for` is by far the most common!"
   ]
  },
  {
   "cell_type": "markdown",
   "id": "54d49688",
   "metadata": {},
   "source": [
    "### 4.4 Introduction to functions\n",
    "\n",
    "As you have seen, repeating a single operation is useful so you do not get bored writing the same lines again and again. In fact, avoiding the repetition of tasks is one of the main core concepts in programming! We are lazy and we want to do as little as possible. This leads to devising mechanisms to reuse the same code in a flexible way.\n",
    "\n",
    "This is what functions are for: **reusable pieces of code that can be parametrized**. This means they accept variables as arguments! They can optionally _return_ a result too. They are very similar to mathematical functions in that sense!\n"
   ]
  },
  {
   "cell_type": "code",
   "execution_count": null,
   "id": "cbfbd96d",
   "metadata": {},
   "outputs": [],
   "source": [
    "# Define a function\n",
    "def square(number):\n",
    "    output = number ** 2\n",
    "    return output\n",
    "\n",
    "# Use the function\n",
    "result = square(2)\n",
    "print(result)"
   ]
  },
  {
   "cell_type": "markdown",
   "id": "cdb47883",
   "metadata": {},
   "source": [
    "Functions can be understood as tasks. A chef might be asked to perform a task, like \"cutting vegetables\". The function would contain the instructions to know **how** to move the knife, but not **what** to cut, since there is more than one vegetable for which this instruction is valid. You then give for example a carrot to the cook (call the function with a \"carrot\" as argument) and get the cut carrot back.\n",
    "\n",
    "Note that:\n",
    "1. Defining a function does not mean you are using or _calling_ the function. \n",
    "2. If there's a return value, you also need to collect it. Otherwise it will be produced and discarded. Think of the cook you asked to cut the carrot. He did it properly and hands you the cut carrot, but you don't take it.\n",
    "\n",
    "So, as a recap, in order to use a function, you first have to know:\n",
    "\n",
    "1. If the function **exists**, either because you have written it or because you have imported it from another file (see below).\n",
    "2. What **arguments** or **parameters** the function is expecting. A function can take arguments or not. Arguments can be required (positional arguments) or optional (keyword arguments).\n",
    "3. If the function **returns** something. If it does not return anything, it doesn't mean it didn't _do_ anything. It might have some kind of side effect (writing a file to disk, for example).\n",
    "\n",
    "\n",
    ">*Exercise:*\n",
    "*You already know and even used one particular function. Do you know how it is named and what it does?*"
   ]
  },
  {
   "cell_type": "markdown",
   "id": "eb3e455d",
   "metadata": {},
   "source": [
    "### 4 Modules and imports\n",
    "\n",
    "Python let you reuse _objects_ defined in other _modules_ via the [`import` system](https://docs.python.org/3/reference/import.html). A module is a file containing Python definitions and statements. You can easily identify them thanks to the `*.py` file extension.\n",
    "\n",
    "> More info on the [Python documentation](https://docs.python.org/3/tutorial/modules.html)!\n",
    "\n",
    "Python ships with a large battery of modules that you can use right away. Since it would be unfeasible to load all definitions directly when starting Python (it simply would take too long and would consume too much memory), only a very small subset is available upon initialization (like `len()`, `print()`, `range()`). The other ones must be _explicitly_ invoked or **imported**. That can be achieved with the `import` keyword.\n",
    "\n",
    "For example, to get access to more scalar functions like the square root, you need to import the `math` module, which defines `sqrt`. As you can see, the functions defined in `math` can be accessed via `.`."
   ]
  },
  {
   "cell_type": "code",
   "execution_count": null,
   "id": "9a9669c1",
   "metadata": {},
   "outputs": [],
   "source": [
    "import math\n",
    "help(math.sqrt)"
   ]
  },
  {
   "cell_type": "markdown",
   "id": "e4e7e7bf",
   "metadata": {},
   "source": [
    "### 5. Important Python Libraries\n",
    "\n",
    "We already saw how to import Python libraries. Libraries are a collection of functionalities that enable you to perform many common tasks without writing the whole code yourself from scratch.\n",
    "\n",
    "For instance, the `pandas` library provides the function `read_csv()` to read a comma-separated values (csv) file into a so-called `DataFrame`.\n",
    "\n",
    "\n",
    "Now, we have a deeper look into the python libraries \n",
    "* `pandas` and \n",
    "* `numpy` "
   ]
  },
  {
   "cell_type": "code",
   "execution_count": null,
   "id": "c059aea5",
   "metadata": {},
   "outputs": [],
   "source": [
    "import numpy as np\n",
    "import pandas as pd"
   ]
  },
  {
   "cell_type": "markdown",
   "id": "f62a85a3",
   "metadata": {},
   "source": [
    "Since module names are sometimes long (and informaticians are lazy) we can alias them by using the keyword `as`. Whenever we need a function/definition from the `numpy` module we can further refer to the module as `np`."
   ]
  },
  {
   "cell_type": "code",
   "execution_count": null,
   "id": "7a60e040",
   "metadata": {},
   "outputs": [],
   "source": [
    "# calling the function \"mean\" from the numpy module, giving the list \"[1,2,3,4]\" as argument.\n",
    "print(np.mean([1,2,3,4]))"
   ]
  },
  {
   "cell_type": "markdown",
   "id": "30ee08aa",
   "metadata": {},
   "source": [
    "\n",
    "**Tip**: You can check out available functionalities of a library in this Jupyter notebook, by writing the library name followed by a dot and then hitting the tab key. All available functionalities will pop up for you to explore. Since there are a lot of options, you can narrow it down by writing e.g. `read` while the popup windows is up. \n",
    "\n",
    "**Note**: If you are working in in Google Colab you will first have to disable `Automatically trigger code completions` on `Tools` > `Settings` > `Editor` in order to be able to use this feature.\n",
    "\n",
    "See for yourself all the possible file formats that you can read with `pandas`."
   ]
  },
  {
   "cell_type": "markdown",
   "id": "5611b704",
   "metadata": {},
   "source": [
    "We will now use the `read_csv()` function ([see docs](https://pandas.pydata.org/pandas-docs/stable/reference/api/pandas.read_csv.html)) to load the csv file content as `DataFrame` into the variable `smiles_df`."
   ]
  },
  {
   "cell_type": "code",
   "execution_count": null,
   "id": "43f0a1c2",
   "metadata": {},
   "outputs": [],
   "source": [
    "smiles_df = pd.read_csv(\"data/smiles.tsv\", sep='\\t')\n",
    "smiles_df.head()"
   ]
  },
  {
   "cell_type": "code",
   "execution_count": null,
   "id": "e735fa94",
   "metadata": {},
   "outputs": [],
   "source": [
    "activity_to_ER = pd.read_csv('data/binary_activity.tsv', sep = '\\t')\n",
    "activity_to_ER.head()"
   ]
  },
  {
   "cell_type": "markdown",
   "id": "3916ebb4",
   "metadata": {},
   "source": [
    "We see that both have the same compound IDs. Now, we want to join the dataframes to one larger one along their compound ID column."
   ]
  },
  {
   "cell_type": "code",
   "execution_count": null,
   "id": "eb58a9a6",
   "metadata": {},
   "outputs": [],
   "source": [
    "joined_df = smiles_df.set_index('DTXSID', drop = True).join(activity_to_ER.set_index('DTXSID', drop = True))\n",
    "joined_df.head()"
   ]
  },
  {
   "cell_type": "markdown",
   "id": "06ff2eec",
   "metadata": {},
   "source": [
    "## 6. Exercises\n",
    "\n",
    "6.1 When executing the following code, (why) will there be an error?\n",
    "\n",
    "```python\n",
    "x = 5\n",
    "y = \"5\"\n",
    "\n",
    "print(x + y)\n",
    "\n",
    "```"
   ]
  },
  {
   "cell_type": "markdown",
   "id": "acf61a09",
   "metadata": {},
   "source": [
    "space for solution"
   ]
  },
  {
   "cell_type": "markdown",
   "id": "d263a5ad",
   "metadata": {},
   "source": [
    "6.2 What do we need to change it order to get the correct output \"10\"?"
   ]
  },
  {
   "cell_type": "code",
   "execution_count": null,
   "id": "00a9848e",
   "metadata": {},
   "outputs": [],
   "source": [
    "# space for solution"
   ]
  },
  {
   "cell_type": "markdown",
   "id": "958dbf07",
   "metadata": {},
   "source": [
    "6.3 What is the expected output of the following code?\n",
    "```python\n",
    "x = \"\"\n",
    "for i in \"python_is_amazing!\":\n",
    "    if i == \"_\":\n",
    "        x += \" \"\n",
    "    else:\n",
    "        x += i\n",
    "print(x)\n",
    "```"
   ]
  },
  {
   "cell_type": "markdown",
   "id": "a9ee9bae",
   "metadata": {},
   "source": [
    "space for solution"
   ]
  },
  {
   "cell_type": "markdown",
   "id": "7cbff49a",
   "metadata": {},
   "source": [
    "6.4 Read the file `data/continuous_response.tsv`. Now, join the continuous AC50 values with the `joined_df`."
   ]
  },
  {
   "cell_type": "code",
   "execution_count": null,
   "id": "9a298287",
   "metadata": {},
   "outputs": [],
   "source": [
    "# space for solution"
   ]
  },
  {
   "cell_type": "markdown",
   "id": "173337b1",
   "metadata": {},
   "source": [
    "## 7. Solutions\n",
    "\n",
    "Before you take a look at the solutions, try to solve the exercises yourself! Talk to your fellow students. If you have a solution, then go ahead and take a look here.\n",
    "\n",
    "\n",
    "<details><summary>Exercise 6.1</summary>\n",
    "\n",
    "Integers and strings cannot be summed or concatenated together, so this will result in an error. In order to use `+` you have to decide the behavior you want by converting one of them to the expected type.\n",
    "    \n",
    "</details>\n",
    "\n",
    "\n",
    "***\n",
    "\n",
    "\n",
    "<details><summary>Exercise 6.2</summary>\n",
    "   \n",
    "```python\n",
    "# Without changing the assignment, use `int(  )` to cast string to integer\n",
    "print(x + int(y))    \n",
    "```\n",
    "    \n",
    "</details>\n",
    "\n",
    "***\n",
    "\n",
    "<details><summary>Exercise 6.3</summary>\n",
    "\n",
    "The solution would be:\n",
    "    \n",
    "```python\n",
    "\"python is amazing!\"\n",
    "\n",
    "```\n",
    "\n",
    "Why? Because we are iterating over the string contents, letter by letter, and adding them to a new one (`x`) one letter at a time. However, before adding to `x` we first chechk if the letter is a `_`, and in that case we replace it with a space ` `. In practice, this means we are replacing underscores with spaces. Of course there are simpler ways to do such a common operation! \n",
    "    \n",
    "```python\n",
    "x = \"python_is_amazing!\".replace(\"_\", \" \")\n",
    "```\n",
    "    \n",
    "</details>\n",
    "\n",
    "***\n",
    "\n",
    "<details><summary>Exercise 6.4</summary>\n",
    "\n",
    "The solution would be:\n",
    "    \n",
    "```python\n",
    "continuous_response = pd.read_csv('data/continuous_response.tsv', sep ='\\t')\n",
    "full_joined_df = joined_df.join(continuous_response.set_index('DTXSID', drop = True))\n",
    "\n",
    "```\n",
    "    \n",
    "</details>"
   ]
  }
 ],
 "metadata": {
  "kernelspec": {
   "display_name": "Python 3",
   "language": "python",
   "name": "python3"
  },
  "language_info": {
   "codemirror_mode": {
    "name": "ipython",
    "version": 3
   },
   "file_extension": ".py",
   "mimetype": "text/x-python",
   "name": "python",
   "nbconvert_exporter": "python",
   "pygments_lexer": "ipython3",
   "version": "3.10.11"
  }
 },
 "nbformat": 4,
 "nbformat_minor": 5
}
