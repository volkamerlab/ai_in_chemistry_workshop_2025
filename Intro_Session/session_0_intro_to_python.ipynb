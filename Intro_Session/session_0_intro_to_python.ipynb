{
 "cells": [
  {
   "cell_type": "markdown",
   "id": "8ace17d7",
   "metadata": {},
   "source": [
    "## Introduction to Python and Jupyter Notebooks\n",
    "\n",
    "**Instructor**: Lisa-Marie Rolli, Volkamer Lab, Saarland University (lisa-marie.rolli@uni-saarland.de)\n",
    "\n",
    "\n",
    "**Course date**: 22nd September 2022\n",
    "\n",
    "\n",
    "Extended from previous contributions by Corey Taylor, Jan Philipp Albrecht, and Jaime Rodríguez-Guerra."
   ]
  },
  {
   "cell_type": "markdown",
   "id": "d3f01634",
   "metadata": {},
   "source": []
  }
 ],
 "metadata": {
  "language_info": {
   "name": "python"
  }
 },
 "nbformat": 4,
 "nbformat_minor": 5
}
