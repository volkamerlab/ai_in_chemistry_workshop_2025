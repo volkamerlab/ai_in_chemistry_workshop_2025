{
 "cells": [
  {
   "cell_type": "markdown",
   "id": "8ace17d7",
   "metadata": {},
   "source": [
    "## Introduction to Python and Jupyter Notebooks\n",
    "\n",
    "**Instructor**: Lisa-Marie Rolli, Volkamer Lab, Saarland University (lisa-marie.rolli@uni-saarland.de)\n",
    "\n",
    "\n",
    "**Course date**: 22nd September 2025\n",
    "\n",
    "\n",
    "Extended from previous contributions by Corey Taylor, Jan Philipp Albrecht, and Jaime Rodríguez-Guerra."
   ]
  },
  {
   "cell_type": "markdown",
   "id": "d3f01634",
   "metadata": {},
   "source": [
    "### 1 Python and Jupyter Notebooks\n",
    "#### What is Python?\n",
    "\n",
    "Python is a widely used general-purpose high-level programming language.\n",
    "The term \"high-level\" means that the language has abstracted away most of the technical details and manages them for you (e.g. memory allocation).\n",
    "\n",
    "In this course we will use Python 3.12.11 (default in Colab as of August 2025).\n",
    "\n",
    "#### What is this interface?\n",
    "\n",
    "This web-based interface  is a so called **Jupyter notebook**, a web application that allows you to create and share documents which contain executable code, equations, visualizations and explanatory text. \n",
    "\n",
    "It allows you to define so called *cells* of different formats:\n",
    "\n",
    "- Rich-text or Markdown cells (like this cell)\n",
    "- Code cells\n",
    "\n",
    "You can *run* (execute) each cell seperately by pressing <kbd>Shift</kbd>+<kbd>Enter</kbd> or <kbd>Ctrl</kbd>+<kbd>Enter</kbd>. All names you define (variables, functions...) are available for **both** preceding _and_ following cells once executed. Careful with the order in which you execute your cells!\n",
    "\n",
    "Some code cells additionally produce an output (text, images, etc.). In that case, the output will appear underneath the code cell.\n",
    "\n",
    "\n",
    "> __Exercise__\n",
    ">\n",
    "> Try to execute the following cell and make sure the output appears."
   ]
  },
  {
   "cell_type": "code",
   "execution_count": 2,
   "id": "b9af1c66",
   "metadata": {},
   "outputs": [
    {
     "name": "stdout",
     "output_type": "stream",
     "text": [
      "This sentence will appear underneath the cell.\n"
     ]
    }
   ],
   "source": [
    "print(\"This sentence will appear underneath the cell.\")\n",
    "# This is a comment line. \n",
    "# Lines in a code cell starting with the '#' symbol are\n",
    "# ignored when you run a piece of code\n",
    "\n",
    "# print('This sentence will NOT appear underneath the cell!')"
   ]
  },
  {
   "cell_type": "markdown",
   "id": "58cc668f",
   "metadata": {},
   "source": [
    "### 2 Variables and Operations\n",
    "\n",
    "There are several **types** of objects depending on their contents.\n",
    "\n",
    "In the following cells, you will learn about:\n",
    "\n",
    "- scalar (one element) objects:\n",
    "    - integers (`int`)\n",
    "    - boolean (`bool`)\n",
    "    - floating-point numbers (`float`)\n",
    "    - strings (`str`)\n",
    "- collection objects:\n",
    "    - lists (`list`)\n",
    "    - dictionaries (`dict`)\n",
    "\n",
    "#### Assignment\n",
    "\n",
    "Regardless of the type, assignment can be done with the following syntax:\n",
    "\n",
    "```python\n",
    "name = value\n",
    "```\n",
    "\n",
    "You can think of _names_ as a label hanging from a _value_. As with real objects, you can attach several names to the same value:"
   ]
  },
  {
   "cell_type": "code",
   "execution_count": 3,
   "id": "74bd36c0",
   "metadata": {},
   "outputs": [
    {
     "name": "stdout",
     "output_type": "stream",
     "text": [
      "pink\n"
     ]
    }
   ],
   "source": [
    "color = \"pink\"\n",
    "print(color)"
   ]
  },
  {
   "cell_type": "markdown",
   "id": "b59475dc",
   "metadata": {},
   "source": [
    "Two things to note:\n",
    "\n",
    "1. The _type_ of the value will be implicitly inferred from the value _contents_.\n",
    "2. You cannot use spaces in the name. Python style guide recommends using `lowercase_words_separated_by_underscores`."
   ]
  },
  {
   "cell_type": "markdown",
   "id": "0a7e02a0",
   "metadata": {},
   "source": [
    "#### Collection objects\n",
    "\n",
    "##### lists\n",
    "\n",
    "Python has a datatype called `list`, where other variables (regardless of their type) can be positionally stored. In other words, `list`s are a sorted collection of elements. \n",
    "\n",
    "The syntax for list definition uses square brackes `[ ]`, which surround the values separated by commas `,`:\n",
    "\n",
    "The code `my_list = [5, 10]` would therefore store `5` at first position, and `10` at second position.\n",
    "\n",
    "  \n",
    "> *Exercise:*<br>\n",
    "> *Try to:*\n",
    "> - *define a list called `animals`*\n",
    "> - *at the first* **position**, *store the string `\"horse\"`.*\n",
    "> - *store the string `\"spider\"` TWICE at* **position** *2 and 3.*\n",
    " "
   ]
  },
  {
   "cell_type": "code",
   "execution_count": 4,
   "id": "c2d2109a",
   "metadata": {},
   "outputs": [],
   "source": [
    "# space to solve the exercise"
   ]
  },
  {
   "cell_type": "markdown",
   "id": "052d2a97",
   "metadata": {},
   "source": [
    "Once defined, you can access the contained elements in different ways. The most common way is by using the **index** of the element. This is the position number, but the count starts from `0`."
   ]
  },
  {
   "cell_type": "code",
   "execution_count": 6,
   "id": "d8b847fa",
   "metadata": {},
   "outputs": [
    {
     "name": "stdout",
     "output_type": "stream",
     "text": [
      "5\n"
     ]
    }
   ],
   "source": [
    "my_list = [5, 10, 15]\n",
    "print(my_list[0])"
   ]
  },
  {
   "cell_type": "markdown",
   "id": "6acc1c3b",
   "metadata": {},
   "source": [
    "Note that the `index` itself could be a variable of the type `int`!"
   ]
  },
  {
   "cell_type": "code",
   "execution_count": 7,
   "id": "e30c73d7",
   "metadata": {},
   "outputs": [
    {
     "name": "stdout",
     "output_type": "stream",
     "text": [
      "10\n"
     ]
    }
   ],
   "source": [
    "index = 1\n",
    "print(my_list[index])"
   ]
  },
  {
   "cell_type": "code",
   "execution_count": 9,
   "id": "f741c44a",
   "metadata": {},
   "outputs": [
    {
     "ename": "IndexError",
     "evalue": "list index out of range",
     "output_type": "error",
     "traceback": [
      "\u001b[1;31m---------------------------------------------------------------------------\u001b[0m",
      "\u001b[1;31mIndexError\u001b[0m                                Traceback (most recent call last)",
      "Cell \u001b[1;32mIn[9], line 1\u001b[0m\n\u001b[1;32m----> 1\u001b[0m \u001b[43mmy_list\u001b[49m\u001b[43m[\u001b[49m\u001b[38;5;241;43m3\u001b[39;49m\u001b[43m]\u001b[49m\n",
      "\u001b[1;31mIndexError\u001b[0m: list index out of range"
     ]
    }
   ],
   "source": [
    "my_list[3]"
   ]
  },
  {
   "cell_type": "markdown",
   "id": "c6ce9d6d",
   "metadata": {},
   "source": [
    "***\n",
    "\n",
    "Oh! Was that an error? \n",
    "\n",
    "<font color=red>Setting or accessing a value of an index of a list which is not defined results in an error!</font>\n",
    "\n",
    "```python\n",
    "my_list[3]\n",
    "---------------------------------------------------------------------------\n",
    "IndexError                       Traceback (most recent call last)\n",
    "<ipython-input-9-831b15cbf272> in <module>()\n",
    "----> 1 my_list[3]\n",
    "\n",
    "IndexError: list index out of range\n",
    "\n",
    "```"
   ]
  },
  {
   "cell_type": "markdown",
   "id": "547be89b",
   "metadata": {},
   "source": [
    "#### Slicing (range-indexing) a list\n",
    "\n",
    "In the following you find a definition of a list called `cities`. By giving a **range** of indices you have access to a contiguous subset of the list. A range can be set in the following way:\n"
   ]
  },
  {
   "cell_type": "code",
   "execution_count": 10,
   "id": "4ac41e4e",
   "metadata": {},
   "outputs": [],
   "source": [
    "cities = [\"paris\", \"saarbrücken\", \"cambridge\", \"rome\"]"
   ]
  },
  {
   "cell_type": "markdown",
   "id": "20e4d293",
   "metadata": {},
   "source": [
    "```python\n",
    "cities[start:stop]\n",
    "```\n",
    "where `start` and `stop` are numbers (integers).  Thus, ` cities[1:3] ` would give an output of `[\"saarbrücken\", \"cambridge\"]`. Notice that the `stop` index is _not_ included in the output.\n"
   ]
  },
  {
   "cell_type": "code",
   "execution_count": 11,
   "id": "76aa4c00",
   "metadata": {},
   "outputs": [
    {
     "data": {
      "text/plain": [
       "['saarbrücken', 'cambridge']"
      ]
     },
     "execution_count": 11,
     "metadata": {},
     "output_type": "execute_result"
    }
   ],
   "source": [
    "cities[1:3]"
   ]
  },
  {
   "cell_type": "markdown",
   "id": "cdb293f1",
   "metadata": {},
   "source": [
    "> *Exercise:*\n",
    ">\n",
    "> *print out all strings in the list `more_neighborhoods` ending in a consonant*"
   ]
  },
  {
   "cell_type": "markdown",
   "id": "ffb483d4",
   "metadata": {},
   "source": [
    "#### Operations\n",
    "\n",
    "Every object type (`int`, `str`, etc) defines some **operations** to do basic tasks.\n",
    "\n",
    "For example, a variable of type `int` defines, among others, the following operations:\n",
    "- Addition `+`\n",
    "- Substraction `-`\n",
    "- Multiplication `*`\n",
    "- Division `/`\n",
    "\n",
    "\n",
    "A division is allowed but **changes** the type of the _returned_ variable (from `int` to `float`). \n"
   ]
  },
  {
   "cell_type": "code",
   "execution_count": 12,
   "id": "a7980574",
   "metadata": {},
   "outputs": [
    {
     "name": "stdout",
     "output_type": "stream",
     "text": [
      "7\n",
      "-1\n",
      "12\n",
      "0.75\n"
     ]
    }
   ],
   "source": [
    "print(3 + 4)  \n",
    "print(3 - 4)  \n",
    "print(3 * 4)  \n",
    "print(3 / 4)  "
   ]
  },
  {
   "cell_type": "markdown",
   "id": "6287b1f7",
   "metadata": {},
   "source": [
    "In addition to mathematical operations, you can apply logical operations, like **comparisons**.\n",
    "\n",
    "An **equality operation** (a comparison operation) can be performed by using the `==` operator. The result is always a `bool`-type having either the value `True` or `False`, depending on whether the content of two variables are indeed equal or not. Beside equality, we can also check for inquality be using the `!=` operation.\n",
    "\n",
    "Imagine this as a question you ask to the computer. \"Is the content of var1 **equal** to the content of var2?\"\n",
    "\n",
    "- Equality `==`\n",
    "- Inequality `!=`\n"
   ]
  },
  {
   "cell_type": "code",
   "execution_count": 13,
   "id": "46450b5d",
   "metadata": {},
   "outputs": [],
   "source": [
    "var1 = 'hello'\n",
    "var2 = 'world'"
   ]
  },
  {
   "cell_type": "code",
   "execution_count": 14,
   "id": "2b87968d",
   "metadata": {},
   "outputs": [
    {
     "name": "stdout",
     "output_type": "stream",
     "text": [
      "True\n",
      "False\n"
     ]
    }
   ],
   "source": [
    "print(var1 == var1) \n",
    "print(var1 != var1) "
   ]
  },
  {
   "cell_type": "markdown",
   "id": "9be63b48",
   "metadata": {},
   "source": [
    "Note how comparisons _always_ produce a `bool` type!"
   ]
  },
  {
   "cell_type": "markdown",
   "id": "956180bc",
   "metadata": {},
   "source": [
    "Instead of equality (`==`) and inequality (`!=`), there are other comparison operations which return a `bool`-type value. Think of it as other questions to the computer than only asking it for equality. These \"questions\" can be used in a `while` loop:\n",
    "- `<` strictly less than\n",
    "- `>` strictly greater than\n",
    "- `<=` less than or equal\n",
    "- `>=` greater than or equal\n"
   ]
  },
  {
   "cell_type": "markdown",
   "id": "f62a85a3",
   "metadata": {},
   "source": []
  }
 ],
 "metadata": {
  "kernelspec": {
   "display_name": "Python 3",
   "language": "python",
   "name": "python3"
  },
  "language_info": {
   "codemirror_mode": {
    "name": "ipython",
    "version": 3
   },
   "file_extension": ".py",
   "mimetype": "text/x-python",
   "name": "python",
   "nbconvert_exporter": "python",
   "pygments_lexer": "ipython3",
   "version": "3.10.11"
  }
 },
 "nbformat": 4,
 "nbformat_minor": 5
}
